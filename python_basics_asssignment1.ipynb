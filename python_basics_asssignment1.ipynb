{
  "nbformat": 4,
  "nbformat_minor": 0,
  "metadata": {
    "colab": {
      "provenance": []
    },
    "kernelspec": {
      "name": "python3",
      "display_name": "Python 3"
    },
    "language_info": {
      "name": "python"
    }
  },
  "cells": [
    {
      "cell_type": "code",
      "execution_count": null,
      "metadata": {
        "id": "kNvZPOHgMQ1-"
      },
      "outputs": [],
      "source": []
    },
    {
      "cell_type": "markdown",
      "source": [],
      "metadata": {
        "id": "pkNvoWhCMoOU"
      }
    },
    {
      "cell_type": "markdown",
      "source": [
        "Python1\n",
        "\n",
        "1.what is python and why is it popular?\n",
        "  \n",
        "   - python is a high level programming language,which is known for its simplecity,readibility,and versatality.It is very popular because it is easy to use,versatile,and has large standard library\n",
        "\n",
        "\n",
        "2.what is an interpreter in python?\n",
        "\n",
        "- interpreter in python executes python code line by line which help us to understand large codes easily\n",
        "\n",
        "\n",
        "\n",
        "3.what are predefined keywords in python?\n",
        "\n",
        "- predefined keywords are special words that are used for special purpose and have special meaning for them in python\n",
        "\n",
        "4.can keywords be used as variable names?\n",
        "\n",
        "\n",
        "- No keywords cannot be used as variables.\n",
        "\n",
        "\n",
        "5.what is mutability in python?\n",
        "- mutability in python refers to that an object can be changed after it has been created for e.g lists,dict,sets.\n",
        "\n",
        "6.why are lists mutable,but tuples are immutable?\n",
        "\n",
        "- lists are made to store collection of items that may change overtime.\n",
        "while tupples are meant to be for fixed collection of items  which we do not want to change\n",
        "\n",
        "7.what is the difference between \"==\"and\"is\" operators in python?\n",
        "-  The main difference between == (equality) and is operator is that \"==\" is used check equality while as \"is\" checks the identity\n",
        "\n",
        "8.what are logical operators in  python?\n",
        "\n",
        "- logical operator are those operators which are used to cmbine conditional statements. there are three logical operators in python :\n",
        "And,Or,Not\n",
        "\n",
        "9.what is type casting in python?\n",
        "- Type casting simply means converting one data type  into another data type.\n",
        "10.what is the difference between implicit and explicit type casting in python?\n",
        "- Implicit type casting is done automatically without user intervention,while as Explicit type casting is done using functions like int().\n",
        "11.What is the purpose of conditional statements in python?\n",
        "- The purpose of conditional statements is to allow your program to make decision and execute different code depending on certain conditions.\n",
        "12.How does elif statement work?\n",
        "- The elif condition is used to check multiple conditions one by one and then run the code by checking whether which condition is true and which is false.\n",
        "13.what is the diiference between for and while loops?\n",
        "- The main difference between For and while loop is given below\n",
        "\n",
        " For loop iterate over a sequence like a  list,range,or string\n",
        "\n",
        " wile loop continues as long as condition is true\n",
        "\n",
        " 14.Describe a scenario where a while loop is more suitable than a for loop?\n",
        " - While loop is more suitable when we dont know in advance how many times the loop should run,and you want to loop continue until a condition changes dynamically\n",
        "\n",
        "\n",
        "\n",
        "\n",
        "\n",
        "\n",
        "\n"
      ],
      "metadata": {
        "id": "6I8EkrFnMeMq"
      }
    },
    {
      "cell_type": "code",
      "source": [
        "#write a python program to print \"hello world\"?\n",
        "a = \"hello world\"\n",
        "a"
      ],
      "metadata": {
        "colab": {
          "base_uri": "https://localhost:8080/",
          "height": 35
        },
        "id": "EU2RXjhJjlk2",
        "outputId": "b76785fb-b385-4b65-d615-8ef885d51ee3"
      },
      "execution_count": null,
      "outputs": [
        {
          "output_type": "execute_result",
          "data": {
            "text/plain": [
              "'hello world'"
            ],
            "application/vnd.google.colaboratory.intrinsic+json": {
              "type": "string"
            }
          },
          "metadata": {},
          "execution_count": 1
        }
      ]
    },
    {
      "cell_type": "code",
      "source": [
        "#write a python program that displays your name and age ?\n",
        "name = \"muzamil\"\n",
        "age = 23\n",
        "print(\"my name is\",name)\n",
        "print(\"I am\", age, \"years old\")"
      ],
      "metadata": {
        "colab": {
          "base_uri": "https://localhost:8080/"
        },
        "id": "vldpqyUUkEE9",
        "outputId": "f0c7b211-072f-48cf-a35d-00710e985fb9"
      },
      "execution_count": null,
      "outputs": [
        {
          "output_type": "stream",
          "name": "stdout",
          "text": [
            "my name is muzamil\n",
            "I am 23 years old\n"
          ]
        }
      ]
    },
    {
      "cell_type": "code",
      "source": [
        "#Write code to print all the pre-defined keywords in Python using the keyword library?\n",
        "words = \"False, none,true,if,else,elif,break,continue\"\n",
        "print(words)\n"
      ],
      "metadata": {
        "colab": {
          "base_uri": "https://localhost:8080/"
        },
        "id": "ot67tHXblSSM",
        "outputId": "b5d52b2e-9e0d-4aaa-c9cd-1dad24257545"
      },
      "execution_count": null,
      "outputs": [
        {
          "output_type": "stream",
          "name": "stdout",
          "text": [
            "False, none,true,if,else,elif,break,continue\n"
          ]
        }
      ]
    },
    {
      "cell_type": "code",
      "source": [
        "#Write a program that checks if a given word is a Python keyword?\n",
        "word=\"False\"\n",
        "if is_python_keyword == \"false\":\n",
        "  print(\"it is keyword \")\n",
        "  else:\n",
        "    print(\"Not a keyword\")"
      ],
      "metadata": {
        "colab": {
          "base_uri": "https://localhost:8080/",
          "height": 106
        },
        "id": "I4ziHtMSqsr5",
        "outputId": "b88416de-ebf2-4cdf-cc55-254d225e08f1"
      },
      "execution_count": null,
      "outputs": [
        {
          "output_type": "error",
          "ename": "SyntaxError",
          "evalue": "invalid syntax (<ipython-input-9-15517d3b6e8e>, line 5)",
          "traceback": [
            "\u001b[0;36m  File \u001b[0;32m\"<ipython-input-9-15517d3b6e8e>\"\u001b[0;36m, line \u001b[0;32m5\u001b[0m\n\u001b[0;31m    else:\u001b[0m\n\u001b[0m    ^\u001b[0m\n\u001b[0;31mSyntaxError\u001b[0m\u001b[0;31m:\u001b[0m invalid syntax\n"
          ]
        }
      ]
    },
    {
      "cell_type": "code",
      "source": [
        "#Create a list and tuple in Python, and demonstrate how attempting to change an element works differently for each?\n",
        "my_list = [10, 20, 30, 40]\n",
        "print(my_list)"
      ],
      "metadata": {
        "colab": {
          "base_uri": "https://localhost:8080/"
        },
        "id": "V3SEtXddsRNV",
        "outputId": "98155a06-4d11-47d1-da17-99cd0777498b"
      },
      "execution_count": null,
      "outputs": [
        {
          "output_type": "stream",
          "name": "stdout",
          "text": [
            "[10, 20, 30, 40]\n"
          ]
        }
      ]
    },
    {
      "cell_type": "code",
      "source": [
        "my_list[1] = 25\n",
        "my_list"
      ],
      "metadata": {
        "colab": {
          "base_uri": "https://localhost:8080/"
        },
        "id": "dPF85wDbubIn",
        "outputId": "226cd0b4-f53d-4815-a614-29f50f89ad1c"
      },
      "execution_count": null,
      "outputs": [
        {
          "output_type": "execute_result",
          "data": {
            "text/plain": [
              "[10, 25, 30, 40]"
            ]
          },
          "metadata": {},
          "execution_count": 12
        }
      ]
    },
    {
      "cell_type": "code",
      "source": [
        "my_tuple = (10, 20, 30, 40)\n",
        "print(my_tuple)"
      ],
      "metadata": {
        "colab": {
          "base_uri": "https://localhost:8080/"
        },
        "id": "CMfXq8SluoAV",
        "outputId": "f42f2cd8-61b2-4f40-a221-084177827fd4"
      },
      "execution_count": null,
      "outputs": [
        {
          "output_type": "stream",
          "name": "stdout",
          "text": [
            "(10, 20, 30, 40)\n"
          ]
        }
      ]
    },
    {
      "cell_type": "code",
      "source": [
        "my_tuple[2] = 25\n",
        "my_tuple"
      ],
      "metadata": {
        "colab": {
          "base_uri": "https://localhost:8080/",
          "height": 158
        },
        "id": "whng6Emdu4hY",
        "outputId": "1dff3c47-a05b-4c26-ab1d-888f1c8b3f68"
      },
      "execution_count": null,
      "outputs": [
        {
          "output_type": "error",
          "ename": "TypeError",
          "evalue": "'tuple' object does not support item assignment",
          "traceback": [
            "\u001b[0;31m---------------------------------------------------------------------------\u001b[0m",
            "\u001b[0;31mTypeError\u001b[0m                                 Traceback (most recent call last)",
            "\u001b[0;32m<ipython-input-14-a877d4def9c3>\u001b[0m in \u001b[0;36m<cell line: 0>\u001b[0;34m()\u001b[0m\n\u001b[0;32m----> 1\u001b[0;31m \u001b[0mmy_tuple\u001b[0m\u001b[0;34m[\u001b[0m\u001b[0;36m2\u001b[0m\u001b[0;34m]\u001b[0m \u001b[0;34m=\u001b[0m \u001b[0;36m25\u001b[0m\u001b[0;34m\u001b[0m\u001b[0;34m\u001b[0m\u001b[0m\n\u001b[0m\u001b[1;32m      2\u001b[0m \u001b[0mmy_tuple\u001b[0m\u001b[0;34m\u001b[0m\u001b[0;34m\u001b[0m\u001b[0m\n",
            "\u001b[0;31mTypeError\u001b[0m: 'tuple' object does not support item assignment"
          ]
        }
      ]
    },
    {
      "cell_type": "code",
      "source": [
        "#Write a function to demonstrate the behavior of mutable and immutable arguments?\n",
        "Before function call:\n",
        "x (immutable): 5\n",
        "y (mutable): [1, 2, 3]\n",
        "\n",
        "Inside function before modification:\n",
        "Immutable: 5, Mutable: [1, 2, 3]\n",
        "Modified immutable inside function: 15\n",
        "Modified mutable inside function: [1, 2, 3, 100]\n",
        "Exiting function...\n",
        "\n",
        "\n",
        "\n",
        "\n"
      ],
      "metadata": {
        "id": "uFctaBbMvDG1",
        "colab": {
          "base_uri": "https://localhost:8080/",
          "height": 106
        },
        "outputId": "deabce9e-fcd4-41a8-916a-283cc16fdd65"
      },
      "execution_count": 2,
      "outputs": [
        {
          "output_type": "error",
          "ename": "SyntaxError",
          "evalue": "invalid syntax (<ipython-input-2-1526919aac71>, line 2)",
          "traceback": [
            "\u001b[0;36m  File \u001b[0;32m\"<ipython-input-2-1526919aac71>\"\u001b[0;36m, line \u001b[0;32m2\u001b[0m\n\u001b[0;31m    Before function call:\u001b[0m\n\u001b[0m           ^\u001b[0m\n\u001b[0;31mSyntaxError\u001b[0m\u001b[0;31m:\u001b[0m invalid syntax\n"
          ]
        }
      ]
    },
    {
      "cell_type": "code",
      "source": [
        "#. Write a program that performs basic arithmetic operations on two user-input numbers?\n",
        "a = 10\n",
        "b = 20\n",
        "a*b#multplication operator\n"
      ],
      "metadata": {
        "colab": {
          "base_uri": "https://localhost:8080/"
        },
        "id": "f0fg3iDssrvv",
        "outputId": "ebcd85b5-7d6e-49cd-84ed-4231dc6f876c"
      },
      "execution_count": 3,
      "outputs": [
        {
          "output_type": "execute_result",
          "data": {
            "text/plain": [
              "200"
            ]
          },
          "metadata": {},
          "execution_count": 3
        }
      ]
    },
    {
      "cell_type": "code",
      "source": [
        "a+b#addition operator"
      ],
      "metadata": {
        "colab": {
          "base_uri": "https://localhost:8080/"
        },
        "id": "VTguhTMruFpy",
        "outputId": "a764fc27-7448-4d5c-a5ad-47913cfdda83"
      },
      "execution_count": 4,
      "outputs": [
        {
          "output_type": "execute_result",
          "data": {
            "text/plain": [
              "30"
            ]
          },
          "metadata": {},
          "execution_count": 4
        }
      ]
    },
    {
      "cell_type": "code",
      "source": [
        "b-a#subtraction operator"
      ],
      "metadata": {
        "colab": {
          "base_uri": "https://localhost:8080/"
        },
        "id": "ooTFEufHuOv1",
        "outputId": "c9498ff1-ca70-42a6-ada2-caba09662ed9"
      },
      "execution_count": 5,
      "outputs": [
        {
          "output_type": "execute_result",
          "data": {
            "text/plain": [
              "10"
            ]
          },
          "metadata": {},
          "execution_count": 5
        }
      ]
    },
    {
      "cell_type": "code",
      "source": [
        "b/a"
      ],
      "metadata": {
        "colab": {
          "base_uri": "https://localhost:8080/"
        },
        "id": "ht1u_ZA7uWZJ",
        "outputId": "9ff7b4c7-2df7-4f8f-8fe0-f784e39edd33"
      },
      "execution_count": 6,
      "outputs": [
        {
          "output_type": "execute_result",
          "data": {
            "text/plain": [
              "2.0"
            ]
          },
          "metadata": {},
          "execution_count": 6
        }
      ]
    },
    {
      "cell_type": "code",
      "source": [
        "b%a#modulus operator"
      ],
      "metadata": {
        "colab": {
          "base_uri": "https://localhost:8080/"
        },
        "id": "spRtmmdxuj7R",
        "outputId": "bce455ae-db1c-42a1-8c89-ad058401713e"
      },
      "execution_count": 7,
      "outputs": [
        {
          "output_type": "execute_result",
          "data": {
            "text/plain": [
              "0"
            ]
          },
          "metadata": {},
          "execution_count": 7
        }
      ]
    },
    {
      "cell_type": "code",
      "source": [
        "a**b"
      ],
      "metadata": {
        "colab": {
          "base_uri": "https://localhost:8080/"
        },
        "id": "6MnB679Susfr",
        "outputId": "ca0a57c2-fc77-4e1a-a41d-2c13f0d52c29"
      },
      "execution_count": 8,
      "outputs": [
        {
          "output_type": "execute_result",
          "data": {
            "text/plain": [
              "100000000000000000000"
            ]
          },
          "metadata": {},
          "execution_count": 8
        }
      ]
    },
    {
      "cell_type": "code",
      "source": [
        "# Write a program to demonstrate the use of logical operators?\n",
        "a = 5\n",
        "b = 2\n",
        "# Write a program to demonstrate the use of logical operators?\n",
        "a = 5\n",
        "b = 2\n",
        "if a > 0 and b > 0:\n",
        "  print(\"True\")\n",
        "else:\n",
        "    print(\"false\")"
      ],
      "metadata": {
        "colab": {
          "base_uri": "https://localhost:8080/"
        },
        "id": "67SwUE7bu2U2",
        "outputId": "092e4573-d3ee-4510-e7d8-97e80e58670d"
      },
      "execution_count": 14,
      "outputs": [
        {
          "output_type": "stream",
          "name": "stdout",
          "text": [
            "True\n"
          ]
        }
      ]
    },
    {
      "cell_type": "code",
      "source": [
        "# Write a Python program to convert user input from string to integer, float, and boolean types?\n",
        "a = \"2\"\n",
        "print(type(a))"
      ],
      "metadata": {
        "colab": {
          "base_uri": "https://localhost:8080/"
        },
        "id": "yLk4L6WkwLZQ",
        "outputId": "696531d2-2f2a-49cb-e3b4-6b8031b4d96e"
      },
      "execution_count": 15,
      "outputs": [
        {
          "output_type": "stream",
          "name": "stdout",
          "text": [
            "<class 'str'>\n"
          ]
        }
      ]
    },
    {
      "cell_type": "code",
      "source": [
        "a = int(a)\n",
        "a"
      ],
      "metadata": {
        "colab": {
          "base_uri": "https://localhost:8080/"
        },
        "id": "sOo3OA2IyQUc",
        "outputId": "fe3d1e4f-d6cf-41d1-8dc2-8e2e4e242139"
      },
      "execution_count": 17,
      "outputs": [
        {
          "output_type": "execute_result",
          "data": {
            "text/plain": [
              "2"
            ]
          },
          "metadata": {},
          "execution_count": 17
        }
      ]
    },
    {
      "cell_type": "code",
      "source": [
        "type(a)"
      ],
      "metadata": {
        "colab": {
          "base_uri": "https://localhost:8080/"
        },
        "id": "FHnpYCggyZj6",
        "outputId": "e00458f9-2845-425d-b639-3b045506700c"
      },
      "execution_count": 18,
      "outputs": [
        {
          "output_type": "execute_result",
          "data": {
            "text/plain": [
              "int"
            ]
          },
          "metadata": {},
          "execution_count": 18
        }
      ]
    },
    {
      "cell_type": "code",
      "source": [
        "a = \"2.3\"\n",
        "type(a)"
      ],
      "metadata": {
        "colab": {
          "base_uri": "https://localhost:8080/"
        },
        "id": "frQNCbEHy-tW",
        "outputId": "c15ee064-b59f-4f5f-c3c0-b450616c3439"
      },
      "execution_count": 19,
      "outputs": [
        {
          "output_type": "execute_result",
          "data": {
            "text/plain": [
              "str"
            ]
          },
          "metadata": {},
          "execution_count": 19
        }
      ]
    },
    {
      "cell_type": "code",
      "source": [
        "b = float(a)"
      ],
      "metadata": {
        "id": "xdICL7DBzRql"
      },
      "execution_count": 20,
      "outputs": []
    },
    {
      "cell_type": "code",
      "source": [
        "type(b)"
      ],
      "metadata": {
        "colab": {
          "base_uri": "https://localhost:8080/"
        },
        "id": "IPelYrl8zWZz",
        "outputId": "0d33abe7-3b67-42b9-fe0a-8d8337b3dcc8"
      },
      "execution_count": 21,
      "outputs": [
        {
          "output_type": "execute_result",
          "data": {
            "text/plain": [
              "float"
            ]
          },
          "metadata": {},
          "execution_count": 21
        }
      ]
    },
    {
      "cell_type": "code",
      "source": [
        "a = \"pwskills\"\n",
        "type(a)"
      ],
      "metadata": {
        "colab": {
          "base_uri": "https://localhost:8080/"
        },
        "id": "tSjbdXk3zYXz",
        "outputId": "f4ab2984-e000-4493-f6b2-db5048890e54"
      },
      "execution_count": 22,
      "outputs": [
        {
          "output_type": "execute_result",
          "data": {
            "text/plain": [
              "str"
            ]
          },
          "metadata": {},
          "execution_count": 22
        }
      ]
    },
    {
      "cell_type": "code",
      "source": [
        "b = bool(a)"
      ],
      "metadata": {
        "id": "d7BocQSFzlLT"
      },
      "execution_count": 23,
      "outputs": []
    },
    {
      "cell_type": "code",
      "source": [
        "type(b)"
      ],
      "metadata": {
        "colab": {
          "base_uri": "https://localhost:8080/"
        },
        "id": "u77MH7UzzrHE",
        "outputId": "141c9bfd-aa41-4c05-b9d1-9155243c5d19"
      },
      "execution_count": 24,
      "outputs": [
        {
          "output_type": "execute_result",
          "data": {
            "text/plain": [
              "bool"
            ]
          },
          "metadata": {},
          "execution_count": 24
        }
      ]
    },
    {
      "cell_type": "code",
      "source": [
        "#Write code to demonstrate type casting with list elements?\n",
        "my_list = [10, 30, 40, 50]\n",
        "my_list"
      ],
      "metadata": {
        "colab": {
          "base_uri": "https://localhost:8080/"
        },
        "id": "0Wen922fzu0U",
        "outputId": "979cc98a-0536-4a6f-ca24-819d77727b08"
      },
      "execution_count": 26,
      "outputs": [
        {
          "output_type": "execute_result",
          "data": {
            "text/plain": [
              "[10, 30, 40, 50]"
            ]
          },
          "metadata": {},
          "execution_count": 26
        }
      ]
    },
    {
      "cell_type": "code",
      "source": [
        "my_list[2]=20\n",
        "my_list"
      ],
      "metadata": {
        "colab": {
          "base_uri": "https://localhost:8080/"
        },
        "id": "DMWYse6n1Lti",
        "outputId": "98255a81-9a51-4658-d276-1f82c63b0f65"
      },
      "execution_count": 28,
      "outputs": [
        {
          "output_type": "execute_result",
          "data": {
            "text/plain": [
              "[10, 30, 20, 50]"
            ]
          },
          "metadata": {},
          "execution_count": 28
        }
      ]
    },
    {
      "cell_type": "code",
      "source": [
        "#Write a program that checks if a number is positive, negative, or zero?\n",
        "a = 10\n",
        "if a > 0:\n",
        "  print(\"positive\")\n",
        "elif a < 0:\n",
        "  print(\"negative\")\n",
        "else:\n",
        "  print(\"zero\")"
      ],
      "metadata": {
        "colab": {
          "base_uri": "https://localhost:8080/"
        },
        "id": "YeuPRoUR1XfK",
        "outputId": "99af32c6-1e90-4553-8490-cd18173df60f"
      },
      "execution_count": 32,
      "outputs": [
        {
          "output_type": "stream",
          "name": "stdout",
          "text": [
            "positive\n"
          ]
        }
      ]
    },
    {
      "cell_type": "code",
      "source": [
        "a = -10\n",
        "if a < 0:\n",
        "  print(\"negative\")\n",
        "elif a > 0:\n",
        "  print(\"positive\")\n",
        "else:\n",
        "  print(\"zero\")"
      ],
      "metadata": {
        "colab": {
          "base_uri": "https://localhost:8080/"
        },
        "id": "YHdGnKtH1mS2",
        "outputId": "2cc07200-330a-4809-9a2a-b57b887e1f44"
      },
      "execution_count": 33,
      "outputs": [
        {
          "output_type": "stream",
          "name": "stdout",
          "text": [
            "negative\n"
          ]
        }
      ]
    },
    {
      "cell_type": "code",
      "source": [
        "a = 0\n",
        "a = 0\n",
        "if a == 0:\n",
        "  print(\"zero\")\n",
        "else:\n",
        "    print(\"positive\")"
      ],
      "metadata": {
        "colab": {
          "base_uri": "https://localhost:8080/"
        },
        "id": "eHZaQmiEA3_r",
        "outputId": "0a806bfd-6383-4dae-b80f-84f0541ec6bf"
      },
      "execution_count": 39,
      "outputs": [
        {
          "output_type": "stream",
          "name": "stdout",
          "text": [
            "zero\n"
          ]
        }
      ]
    },
    {
      "cell_type": "code",
      "source": [
        "#Write a for loop to print numbers from 1 to 10?\n",
        "for i in range(1,11):\n",
        "  print(i)"
      ],
      "metadata": {
        "colab": {
          "base_uri": "https://localhost:8080/"
        },
        "id": "_t-3MIotBSeX",
        "outputId": "d444b440-4998-4699-f8c9-dd25809ec7ab"
      },
      "execution_count": 40,
      "outputs": [
        {
          "output_type": "stream",
          "name": "stdout",
          "text": [
            "1\n",
            "2\n",
            "3\n",
            "4\n",
            "5\n",
            "6\n",
            "7\n",
            "8\n",
            "9\n",
            "10\n"
          ]
        }
      ]
    },
    {
      "cell_type": "code",
      "source": [
        "# Write a Python program to find the sum of all even numbers between 1 and 50?\n",
        "sum = 0\n",
        "for i in range(1,51):\n",
        "  if i % 2 == 0:\n",
        "    sum = sum + i\n",
        "print(sum)"
      ],
      "metadata": {
        "colab": {
          "base_uri": "https://localhost:8080/"
        },
        "id": "nN2n3-ZYChep",
        "outputId": "2fe3aec6-85a7-4a16-a040-318ecc6c24d4"
      },
      "execution_count": 44,
      "outputs": [
        {
          "output_type": "stream",
          "name": "stdout",
          "text": [
            "650\n"
          ]
        }
      ]
    },
    {
      "cell_type": "code",
      "source": [
        "#  Write a Python program to calculate the factorial of a number provided by the user using a while loop?\n",
        "num = int(input(2))\n",
        "fact = 1\n",
        "while num > 0:\n",
        "  fact = fact * num\n",
        "  num = num - 1\n",
        "print(fact)\n",
        "\n",
        "\n",
        "\n",
        "\n",
        "\n",
        "\n",
        "\n",
        "\n",
        "\n",
        "\n",
        "\n",
        "\n",
        ""
      ],
      "metadata": {
        "colab": {
          "base_uri": "https://localhost:8080/"
        },
        "id": "K4hnwQnmDlEc",
        "outputId": "d53e51ac-1454-4801-cf43-40e7677d1249"
      },
      "execution_count": 48,
      "outputs": [
        {
          "output_type": "stream",
          "name": "stdout",
          "text": [
            "22\n",
            "2\n"
          ]
        }
      ]
    },
    {
      "cell_type": "code",
      "source": [],
      "metadata": {
        "id": "X1G4J2hOFN4e"
      },
      "execution_count": 48,
      "outputs": []
    }
  ]
}